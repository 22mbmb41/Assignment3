{
 "cells": [
  {
   "cell_type": "markdown",
   "id": "4b9c7244-ed4e-4bbe-b648-423303f4ccb0",
   "metadata": {},
   "source": [
    "Q1. Which keyword is used to create a function? Create a function to return a list of odd numbers in the\n",
    "range of 1 to 25."
   ]
  },
  {
   "cell_type": "code",
   "execution_count": 1,
   "id": "4520cbf9-5f48-4a12-9c07-97b8bb2211a9",
   "metadata": {},
   "outputs": [
    {
     "name": "stdout",
     "output_type": "stream",
     "text": [
      "[1, 3, 5, 7, 9, 11, 13, 15, 17, 19, 21, 23, 25]\n"
     ]
    }
   ],
   "source": [
    "def get_odd_numbers():\n",
    "    odd_numbers = []\n",
    "    for number in range(1, 26):\n",
    "        if number % 2 != 0:\n",
    "            odd_numbers.append(number)\n",
    "    return odd_numbers\n",
    "\n",
    "# Call the function and print the result\n",
    "odd_numbers_list = get_odd_numbers()\n",
    "print(odd_numbers_list)"
   ]
  },
  {
   "cell_type": "markdown",
   "id": "8ac33e29-7b66-4f60-b7d8-eee281849fdc",
   "metadata": {},
   "source": [
    "Q2. Why *args and **kwargs is used in some functions? Create a function each for *args and **kwargs\n",
    "to demonstrate their use."
   ]
  },
  {
   "cell_type": "raw",
   "id": "4727fd86-7dae-4539-bbdb-10c6a8c9c927",
   "metadata": {},
   "source": [
    "*args allows a function to accept any number of positional arguments.\n",
    "**kwargs allows a function to accept any number of keyword arguments."
   ]
  },
  {
   "cell_type": "code",
   "execution_count": 2,
   "id": "91ec19b5-808c-461f-ae35-65af2ab9e0ad",
   "metadata": {},
   "outputs": [
    {
     "name": "stdout",
     "output_type": "stream",
     "text": [
      "15\n"
     ]
    }
   ],
   "source": [
    "def sum_all(*args):\n",
    "    return sum(args)\n",
    "\n",
    "# Example usage\n",
    "result = sum_all(1, 2, 3, 4, 5)\n",
    "print(result)  # Output: 15"
   ]
  },
  {
   "cell_type": "code",
   "execution_count": 3,
   "id": "194c6e45-65f0-45dc-81c7-acc97551ce84",
   "metadata": {},
   "outputs": [
    {
     "name": "stdout",
     "output_type": "stream",
     "text": [
      "name: Alice\n",
      "age: 30\n",
      "job: Data Analyst\n"
     ]
    }
   ],
   "source": [
    "def print_details(**kwargs):\n",
    "    for key, value in kwargs.items():\n",
    "        print(f\"{key}: {value}\")\n",
    "\n",
    "# Example usage\n",
    "print_details(name=\"Alice\", age=30, job=\"Data Analyst\")"
   ]
  },
  {
   "cell_type": "markdown",
   "id": "d8e67e64-37f5-49cd-8313-2230f3a27e19",
   "metadata": {},
   "source": [
    "Q3. What is an iterator in python? Name the method used to initialise the iterator object and the method\n",
    "used for iteration. Use these methods to print the first five elements of the given list [2, 4, 6, 8, 10, 12, 14,\n",
    "16, 18, 20]."
   ]
  },
  {
   "cell_type": "raw",
   "id": "627d3145-acfc-4ba8-b6a0-d9230bbfe544",
   "metadata": {},
   "source": [
    "An iterator must implement two methods:\n",
    "\n",
    "__iter__() to initialize the iterator object.\n",
    "__next__() to get the next element from the collection."
   ]
  },
  {
   "cell_type": "code",
   "execution_count": 4,
   "id": "aed62a62-68cc-4081-b6dc-6821f1a5884b",
   "metadata": {},
   "outputs": [
    {
     "name": "stdout",
     "output_type": "stream",
     "text": [
      "2\n",
      "4\n",
      "6\n",
      "8\n",
      "10\n"
     ]
    }
   ],
   "source": [
    "# Define the list\n",
    "numbers = [2, 4, 6, 8, 10, 12, 14, 16, 18, 20]\n",
    "\n",
    "# Get an iterator object\n",
    "iterator = iter(numbers)\n",
    "\n",
    "# Print the first five elements using the iterator\n",
    "for _ in range(5):\n",
    "    print(next(iterator))"
   ]
  },
  {
   "cell_type": "markdown",
   "id": "16df0054-62db-46d1-91b3-97d501d63ffb",
   "metadata": {},
   "source": [
    "Q4. What is a generator function in python? Why yield keyword is used? Give an example of a generator\n",
    "function."
   ]
  },
  {
   "cell_type": "raw",
   "id": "5a12f3ea-9356-4d74-8835-351a1540e745",
   "metadata": {},
   "source": [
    "A generator function in Python is a special type of function that returns an iterator, which we can iterate over one value at a time. Instead of using the return keyword to return a value and terminate the function, a generator function uses the yield keyword to yield a value and suspend the function's execution, which can be resumed later.\n",
    "\n",
    "Why yield is Used\n",
    "The yield keyword is used in a generator function to:\n",
    "\n",
    "Produce a value to the caller without terminating the function.\n",
    "Allow the function to maintain its state between successive calls."
   ]
  },
  {
   "cell_type": "code",
   "execution_count": 5,
   "id": "ab4ba1a6-64af-4bc4-9af2-9874985b45c6",
   "metadata": {},
   "outputs": [
    {
     "name": "stdout",
     "output_type": "stream",
     "text": [
      "1\n",
      "3\n",
      "5\n",
      "7\n",
      "9\n"
     ]
    }
   ],
   "source": [
    "def odd_numbers(limit):\n",
    "    number = 1\n",
    "    while number <= limit:\n",
    "        yield number\n",
    "        number += 2\n",
    "\n",
    "# Create a generator object\n",
    "odd_gen = odd_numbers(25)\n",
    "\n",
    "# Print the first five odd numbers\n",
    "for i in range(5):\n",
    "    print(next(odd_gen))"
   ]
  },
  {
   "cell_type": "markdown",
   "id": "9256cfc6-cf06-4770-88e0-e38f94d91fc3",
   "metadata": {},
   "source": [
    "Q5. Create a generator function for prime numbers less than 1000. Use the next() method to print the\n",
    "first 20 prime numbers."
   ]
  },
  {
   "cell_type": "code",
   "execution_count": 6,
   "id": "b3c6f2a0-2336-4ab3-89c2-2984f21f45bd",
   "metadata": {},
   "outputs": [
    {
     "name": "stdout",
     "output_type": "stream",
     "text": [
      "2\n",
      "3\n",
      "5\n",
      "7\n",
      "11\n",
      "13\n",
      "17\n",
      "19\n",
      "23\n",
      "29\n",
      "31\n",
      "37\n",
      "41\n",
      "43\n",
      "47\n",
      "53\n",
      "59\n",
      "61\n",
      "67\n",
      "71\n"
     ]
    }
   ],
   "source": [
    "def is_prime(n):\n",
    "    \"\"\"Helper function to check if a number is prime.\"\"\"\n",
    "    if n <= 1:\n",
    "        return False\n",
    "    if n <= 3:\n",
    "        return True\n",
    "    if n % 2 == 0 or n % 3 == 0:\n",
    "        return False\n",
    "    i = 5\n",
    "    while i * i <= n:\n",
    "        if n % i == 0 or n % (i + 2) == 0:\n",
    "            return False\n",
    "        i += 6\n",
    "    return True\n",
    "\n",
    "def prime_numbers(limit):\n",
    "    \"\"\"Generator function to yield prime numbers less than limit.\"\"\"\n",
    "    num = 2\n",
    "    while num < limit:\n",
    "        if is_prime(num):\n",
    "            yield num\n",
    "        num += 1\n",
    "\n",
    "# Create a generator object\n",
    "prime_gen = prime_numbers(1000)\n",
    "\n",
    "# Print the first 20 prime numbers using the next() method\n",
    "for j in range(20):\n",
    "    print(next(prime_gen))"
   ]
  },
  {
   "cell_type": "markdown",
   "id": "1a564f69-03a0-4969-9a64-c5d954eed5bc",
   "metadata": {},
   "source": [
    "Q6. Write a python program to print the first 10 Fibonacci numbers using a while loop."
   ]
  },
  {
   "cell_type": "code",
   "execution_count": 7,
   "id": "55ca0d99-dd61-47e1-b8c8-f754fbb06346",
   "metadata": {},
   "outputs": [
    {
     "name": "stdout",
     "output_type": "stream",
     "text": [
      "The first 10 Fibonacci numbers are:\n",
      "0\n",
      "1\n",
      "1\n",
      "2\n",
      "3\n",
      "5\n",
      "8\n",
      "13\n",
      "21\n",
      "34\n"
     ]
    }
   ],
   "source": [
    "# Initialize the first two Fibonacci numbers and a counter\n",
    "a, b = 0, 1\n",
    "count = 0\n",
    "\n",
    "# Number of Fibonacci numbers to print\n",
    "n = 10\n",
    "\n",
    "print(\"The first 10 Fibonacci numbers are:\")\n",
    "\n",
    "# Use a while loop to generate the first 10 Fibonacci numbers\n",
    "while count < n:\n",
    "    print(a)\n",
    "    # Update the values of a and b to the next Fibonacci numbers\n",
    "    a, b = b, a + b\n",
    "    count += 1"
   ]
  },
  {
   "cell_type": "markdown",
   "id": "ef8caca7-57f6-4a0b-acc7-a8aaf5b22f6e",
   "metadata": {},
   "source": [
    "Q7. Write a List Comprehension to iterate through the given string: ‘pwskills’.\n",
    "Expected output: ['p', 'w', 's', 'k', 'i', 'l', 'l', 's']"
   ]
  },
  {
   "cell_type": "code",
   "execution_count": 8,
   "id": "e9131373-bdf2-4f51-bf63-45e388a7304a",
   "metadata": {},
   "outputs": [
    {
     "name": "stdout",
     "output_type": "stream",
     "text": [
      "['p', 'w', 's', 'k', 'i', 'l', 'l', 's']\n"
     ]
    }
   ],
   "source": [
    "# Given string\n",
    "string = 'pwskills'\n",
    "\n",
    "# List comprehension to iterate through the string and create a list of specified characters\n",
    "output = [char for char in string if char in 'pwskills']\n",
    "\n",
    "print(output)"
   ]
  },
  {
   "cell_type": "markdown",
   "id": "e859bcb5-7e88-4316-b4b9-91c729ce3e85",
   "metadata": {},
   "source": [
    "Q8. Write a python program to check whether a given number is Palindrome or not using a while loop."
   ]
  },
  {
   "cell_type": "code",
   "execution_count": 9,
   "id": "9f6e389b-0bdb-4d94-8541-78bfbbb83bd8",
   "metadata": {},
   "outputs": [
    {
     "name": "stdin",
     "output_type": "stream",
     "text": [
      "Enter a number:  121\n"
     ]
    },
    {
     "name": "stdout",
     "output_type": "stream",
     "text": [
      "121 is a palindrome.\n"
     ]
    }
   ],
   "source": [
    "def is_palindrome(number):\n",
    "    # Convert the number to a string to easily reverse it\n",
    "    original_number = str(number)\n",
    "    reversed_number = \"\"\n",
    "    \n",
    "    # Index for the last character in the string\n",
    "    index = len(original_number) - 1\n",
    "    \n",
    "    # Use a while loop to construct the reversed number\n",
    "    while index >= 0:\n",
    "        reversed_number += original_number[index]\n",
    "        index -= 1\n",
    "    \n",
    "    # Check if the original number and the reversed number are the same\n",
    "    if original_number == reversed_number:\n",
    "        return True\n",
    "    else:\n",
    "        return False\n",
    "\n",
    "# Test the function\n",
    "number = int(input(\"Enter a number: \"))\n",
    "if is_palindrome(number):\n",
    "    print(f\"{number} is a palindrome.\")\n",
    "else:\n",
    "    print(f\"{number} is not a palindrome.\")"
   ]
  },
  {
   "cell_type": "markdown",
   "id": "b8916279-354e-4d06-91dd-42fbeffe9cbc",
   "metadata": {},
   "source": [
    "Q9. Write a code to print odd numbers from 1 to 100 using list comprehension."
   ]
  },
  {
   "cell_type": "code",
   "execution_count": 10,
   "id": "8f07829b-16e2-4240-b47a-8c9353ae94de",
   "metadata": {},
   "outputs": [
    {
     "name": "stdout",
     "output_type": "stream",
     "text": [
      "[1, 3, 5, 7, 9, 11, 13, 15, 17, 19, 21, 23, 25, 27, 29, 31, 33, 35, 37, 39, 41, 43, 45, 47, 49, 51, 53, 55, 57, 59, 61, 63, 65, 67, 69, 71, 73, 75, 77, 79, 81, 83, 85, 87, 89, 91, 93, 95, 97, 99]\n"
     ]
    }
   ],
   "source": [
    "# List comprehension to create a list of numbers from 1 to 100\n",
    "numbers = [i for i in range(1, 101)]\n",
    "\n",
    "# List comprehension to filter out odd numbers from the list\n",
    "odd_numbers = [num for num in numbers if num % 2 != 0]\n",
    "\n",
    "print(odd_numbers)"
   ]
  },
  {
   "cell_type": "code",
   "execution_count": null,
   "id": "406ae97a-1cfa-4127-a2da-3b4cf031c253",
   "metadata": {},
   "outputs": [],
   "source": []
  }
 ],
 "metadata": {
  "kernelspec": {
   "display_name": "Python 3 (ipykernel)",
   "language": "python",
   "name": "python3"
  },
  "language_info": {
   "codemirror_mode": {
    "name": "ipython",
    "version": 3
   },
   "file_extension": ".py",
   "mimetype": "text/x-python",
   "name": "python",
   "nbconvert_exporter": "python",
   "pygments_lexer": "ipython3",
   "version": "3.10.8"
  }
 },
 "nbformat": 4,
 "nbformat_minor": 5
}
